{
 "cells": [
  {
   "cell_type": "code",
   "execution_count": 128,
   "metadata": {},
   "outputs": [],
   "source": [
    "import numpy as np\n",
    "import pandas as pd\n",
    "import matplotlib.pyplot as plt\n",
    "import seaborn as sns\n",
    "import statsmodels.api as sm\n",
    "from sklearn.model_selection import train_test_split\n",
    "from sklearn.metrics import mean_squared_error, r2_score"
   ]
  },
  {
   "cell_type": "code",
   "execution_count": 129,
   "metadata": {},
   "outputs": [],
   "source": [
    "data_file_path = \"dataset/health_dataset.csv\"\n",
    "df = pd.read_csv(data_file_path, encoding='ascii')\n",
    "df.columns = df.columns.str.strip() # Remove leading/trailing whitespace from column names"
   ]
  },
  {
   "cell_type": "code",
   "execution_count": null,
   "metadata": {},
   "outputs": [],
   "source": [
    "chosen_attr = ['Act_improve_health', 'Age', 'Edu_level', 'Gender', 'Gen_health_state', 'Health_utility_indx', 'Household', 'Life_satisfaction', 'Marital_status', 'Mental_health_state', 'Sense_belonging', 'Stress_level', 'Total_income', 'Weight_state', 'Work_hours', 'Worked_job_business', 'working_status']\n",
    "\n",
    "# Drop rows with missing values in any of the chosen attributes to ensure complete data for analysis\n",
    "df_cleaned = df.dropna(subset=chosen_attr) \n",
    "row_count = len(df_cleaned)\n",
    "print(f\"Number of rows in the cleaned dataset: {row_count}\")\n",
    "\n",
    "correlation_matrix = df_cleaned[chosen_attr].corr(method='spearman')\n",
    "# plt.figure(figsize=(12, 8))\n",
    "sns.heatmap(correlation_matrix, annot=True, cmap='coolwarm', center=0, annot_kws={\"size\": 6})\n",
    "plt.title('Correlation Heatmap of Health Dataset')\n",
    "plt.show()"
   ]
  },
  {
   "cell_type": "code",
   "execution_count": null,
   "metadata": {},
   "outputs": [],
   "source": [
    "sns.scatterplot(x='Gender', y='Stress_level', data=df_cleaned[['Gender', 'Stress_level']], color='red')\n",
    "plt.title('Stress Level by Gender')\n",
    "plt.show()\n",
    "\n",
    "contingency_table = pd.crosstab(df_cleaned['Gender'], df_cleaned['Stress_level'])\n",
    "chi2, p, dof, expected = stats.chi2_contingency(contingency_table)\n",
    "print(f\"Chi-squared statistic: {chi2}\")\n",
    "print(f\"P-value: {p}\")\n",
    "print(f\"Degrees of freedom: {dof}\")\n",
    "print(\"Expected frequencies:\\n\", expected)\n",
    "alpha = 0.05  # Significance level\n",
    "if p < alpha:\n",
    "    print(\"Reject the null hypothesis: Variables are dependent.\")\n",
    "else:\n",
    "    print(\"Fail to reject the null hypothesis: Variables are independent.\")"
   ]
  },
  {
   "cell_type": "code",
   "execution_count": null,
   "metadata": {},
   "outputs": [],
   "source": [
    "# Count the number of rows being used in this analysis\n",
    "print(f\"Number of rows in this analysis: {len(df_cleaned)}\")\n",
    "\n",
    "# Create the scatter plot\n",
    "sns.scatterplot(x='Marital_status', y='Stress_level', hue='Gender', data=df_cleaned[['Marital_status', 'Stress_level', 'Gender']], palette='bright')\n",
    "plt.title('Stress Level by Marital Status with Gender Classification')\n",
    "plt.show()"
   ]
  },
  {
   "cell_type": "code",
   "execution_count": null,
   "metadata": {},
   "outputs": [],
   "source": [
    "sns.regplot(x='Mental_health_state', y='Stress_level', data=df_cleaned[['Mental_health_state', 'Stress_level']], scatter=False, color='red')\n",
    "plt.title('Stress Level by Mental Health State')\n",
    "plt.show()\n",
    "sns.regplot(x='Life_satisfaction', y='Stress_level', data=df_cleaned[['Life_satisfaction', 'Stress_level']], scatter=False, color='purple')\n",
    "plt.title('Stress Level by Life Satisfaction')\n",
    "plt.show()\n",
    "sns.regplot(x='Life_satisfaction', y='Weight_state', data=df_cleaned[['Life_satisfaction', 'Weight_state']], scatter=False, color='green')\n",
    "plt.title('Weight State by Life Satisfaction')\n",
    "plt.show()"
   ]
  },
  {
   "cell_type": "code",
   "execution_count": null,
   "metadata": {},
   "outputs": [],
   "source": [
    "contingency_table = pd.crosstab(df_cleaned['Age'], df_cleaned['working_status'])\n",
    "chi2, p, dof, expected = stats.chi2_contingency(contingency_table)\n",
    "print(f\"Chi-squared statistic: {chi2}\")\n",
    "print(f\"P-value: {p}\")\n",
    "print(f\"Degrees of freedom: {dof}\")\n",
    "print(\"Expected frequencies:\\n\", expected)\n",
    "alpha = 0.05  # Significance level\n",
    "if p < alpha:\n",
    "    print(\"Reject the null hypothesis: Variables are dependent.\")\n",
    "else:\n",
    "    print(\"Fail to reject the null hypothesis: Variables are independent.\")\n",
    "\n",
    "sns.regplot(x='Age', y='working_status', data=df_cleaned[['Age', 'working_status']], scatter=False, color='blue')\n",
    "plt.title('Working Status by Age')\n",
    "plt.show()"
   ]
  },
  {
   "cell_type": "code",
   "execution_count": null,
   "metadata": {},
   "outputs": [],
   "source": [
    "contingency_table = pd.crosstab(df_cleaned['Age'], df_cleaned['Edu_level'])\n",
    "chi2, p, dof, expected = stats.chi2_contingency(contingency_table)\n",
    "print(f\"Chi-squared statistic: {chi2}\")\n",
    "print(f\"P-value: {p}\")\n",
    "print(f\"Degrees of freedom: {dof}\")\n",
    "print(\"Expected frequencies:\\n\", expected)\n",
    "alpha = 0.05  # Significance level\n",
    "if p < alpha:\n",
    "    print(\"Reject the null hypothesis: Variables are dependent.\")\n",
    "else:\n",
    "    print(\"Fail to reject the null hypothesis: Variables are independent.\")\n",
    "\n",
    "sns.regplot(x='Age', y='Edu_level', data=df_cleaned[['Age', 'Edu_level']], scatter=False, color='blue')\n",
    "plt.title('Education Level by Age')\n",
    "plt.show()\n",
    "\n",
    "sns.regplot(x='Edu_level', y='working_status', data=df_cleaned[['Edu_level', 'working_status']], scatter=False, color='blue')\n",
    "plt.title('Working Status by Education Level')\n",
    "plt.show()\n"
   ]
  },
  {
   "cell_type": "code",
   "execution_count": null,
   "metadata": {},
   "outputs": [],
   "source": [
    "X = df[['Work_hours', 'Age', 'Life_satisfaction']]  # Independent variables\n",
    "y = df['Stress_level']  # Dependent variable\n",
    "\n",
    "X = sm.add_constant(X)\n",
    "X_train, X_test, y_train, y_test = train_test_split(X, y, test_size=0.2, random_state=42)\n",
    "\n",
    "model = sm.OLS(y_train, X_train).fit()\n",
    "print(model.summary())\n",
    "\n",
    "predictions = model.predict(X_test)\n",
    "mse = mean_squared_error(y_test, predictions)\n",
    "r2 = r2_score(y_test, predictions)\n",
    "\n",
    "print(f\"Mean Squared Error: {mse}\")\n",
    "print(f\"R-squared: {r2}\")"
   ]
  },
  {
   "cell_type": "code",
   "execution_count": null,
   "metadata": {},
   "outputs": [],
   "source": [
    "sns.regplot(x='Work_hours', y='Stress_level', data=df_cleaned[['Work_hours', 'Stress_level']], scatter=False, color='red')\n",
    "plt.title('Stress level by working hours')\n",
    "plt.show()\n",
    "\n",
    "sns.regplot(x='working_status', y='Stress_level', data=df_cleaned[['working_status', 'Stress_level']], scatter=False, color='blue')\n",
    "plt.title('Stress level by working status')\n",
    "plt.show()"
   ]
  },
  {
   "cell_type": "code",
   "execution_count": null,
   "metadata": {},
   "outputs": [],
   "source": [
    "# Create separate histograms for Total_income and Stress_level\n",
    "plt.figure(figsize=(12, 5))\n",
    "\n",
    "plt.subplot(1, 2, 1)\n",
    "sns.histplot(df_cleaned['Total_income'], kde=True, edgecolor='black')\n",
    "plt.title('Total Income Distribution')\n",
    "\n",
    "plt.subplot(1, 2, 2)\n",
    "sns.histplot(df_cleaned['Stress_level'], kde=True, edgecolor='black')\n",
    "plt.title('Stress Level Distribution')\n",
    "\n",
    "plt.tight_layout()\n",
    "plt.show()"
   ]
  }
 ],
 "metadata": {
  "kernelspec": {
   "display_name": ".venv",
   "language": "python",
   "name": "python3"
  },
  "language_info": {
   "codemirror_mode": {
    "name": "ipython",
    "version": 3
   },
   "file_extension": ".py",
   "mimetype": "text/x-python",
   "name": "python",
   "nbconvert_exporter": "python",
   "pygments_lexer": "ipython3",
   "version": "3.11.9"
  }
 },
 "nbformat": 4,
 "nbformat_minor": 2
}
